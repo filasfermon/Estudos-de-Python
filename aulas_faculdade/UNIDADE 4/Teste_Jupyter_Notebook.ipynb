{
 "cells": [
  {
   "cell_type": "code",
   "execution_count": 2,
   "id": "d4e4e8a9",
   "metadata": {},
   "outputs": [
    {
     "name": "stdout",
     "output_type": "stream",
     "text": [
      "It's Running!\n"
     ]
    }
   ],
   "source": [
    "print(\"It's Running!\")\n"
   ]
  },
  {
   "cell_type": "markdown",
   "id": "b88dc9f9",
   "metadata": {},
   "source": [
    "# **As linhas de código abaixo irão...**\n",
    "\n",
    "1.\n",
    "\n"
   ]
  },
  {
   "cell_type": "markdown",
   "id": "abb60719",
   "metadata": {},
   "source": []
  }
 ],
 "metadata": {
  "kernelspec": {
   "display_name": "Python 3",
   "language": "python",
   "name": "python3"
  },
  "language_info": {
   "codemirror_mode": {
    "name": "ipython",
    "version": 3
   },
   "file_extension": ".py",
   "mimetype": "text/x-python",
   "name": "python",
   "nbconvert_exporter": "python",
   "pygments_lexer": "ipython3",
   "version": "3.13.1"
  }
 },
 "nbformat": 4,
 "nbformat_minor": 5
}
