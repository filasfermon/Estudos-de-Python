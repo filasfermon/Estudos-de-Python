{
 "cells": [
  {
   "cell_type": "markdown",
   "id": "617424c8",
   "metadata": {},
   "source": [
    "# **Classe Abstrata**"
   ]
  },
  {
   "cell_type": "code",
   "execution_count": 1,
   "id": "7d6d6c10",
   "metadata": {},
   "outputs": [],
   "source": [
    "from abc import ABC, abstractmethod\n",
    "\n",
    "class Conta(ABC):\n",
    "    def __init__(self, numero_da_conta, saldo):\n",
    "        self.numero_da_conta = numero_da_conta\n",
    "        self.saldo = saldo\n",
    "\n",
    "    def depositar(self, valor):\n",
    "        self.saldo += valor\n",
    "\n",
    "    @abstractmethod\n",
    "    def sacar(self, valor):\n",
    "        raise NotImplementedError\n",
    "    "
   ]
  },
  {
   "cell_type": "code",
   "execution_count": 2,
   "id": "4fe8e6a5",
   "metadata": {},
   "outputs": [],
   "source": [
    "class ContaPoupanca(Conta):\n",
    "    \n",
    "    def sacar(self, valor):\n",
    "        if self.saldo - valor > 0:\n",
    "            self.saldo -= valor\n",
    "\n",
    "    def calcular_rendimentos(self):\n",
    "        self.saldo += self.saldo * 0.05\n",
    "    "
   ]
  },
  {
   "cell_type": "markdown",
   "id": "a5bbf28f",
   "metadata": {},
   "source": [
    "# **Tanto faz escrever com ou sem espaços entre os argumentos na chamada da função:**\n",
    "\n",
    "### **cp = ContaPoupanca(numero_da_conta = 123456, saldo = 200)**\n",
    "\n",
    "ou\n",
    "\n",
    "### **cp = ContaPoupanca(numero_da_conta=123456, saldo=200)**\n",
    "\n",
    "### **Ambas as formas são corretas e funcionam do mesmo jeito. A única diferença está na estética e estilo do código. A recomendação da PEP 8 (guia de estilo oficial do Python) é não usar espaços em volta do sinal de igual em argumentos nomeados, ou seja:**\n",
    "\n",
    "✅ Recomendado:\n",
    "cp = ContaPoupanca(numero_da_conta=123456, saldo=200)\n",
    "\n",
    "❌ Não recomendado (mas ainda funciona):\n",
    "cp = ContaPoupanca(numero_da_conta = 123456, saldo = 200)\n",
    "\n",
    "### **🔹O que são argumentos nomeados (também chamados de argumentos com palavra-chave)?**\n",
    "**São argumentos passados com o nome do parâmetro explícito na chamada da função ou método. Isso permite que você saiba claramente o que está sendo passado para cada parâmetro, mesmo que a ordem não seja a mesma da definição da função.**\n",
    "\n",
    "📌 Exemplo simples:\n",
    "def saudacao(nome, idade):\n",
    "    print(f\"Olá, {nome}! Você tem {idade} anos.\")\n",
    "\n",
    "Você pode chamar essa função assim:\n",
    "\n",
    "✅ Forma posicional (ordem importa):\n",
    "\n",
    "saudacao(\"Ana\", 30)\n",
    "\n",
    "✅ Forma com argumentos nomeados:\n",
    "\n",
    "saudacao(nome=\"Ana\", idade=30)\n",
    "\n",
    "✅ Também funciona mudando a ordem:\n",
    "\n",
    "saudacao(idade=30, nome=\"Ana\")\n",
    "\n",
    "✅ Vantagens de usar argumentos nomeados:\n",
    "Mais clareza: facilita a leitura e o entendimento do código.\n",
    "\n",
    "Mais flexibilidade: você pode mudar a ordem dos parâmetros.\n",
    "\n",
    "Útil com muitos argumentos: evita erros e melhora a organização.\n",
    "\n",
    "⚠️ Observação:\n",
    "Argumentos nomeados só podem vir depois dos posicionais numa chamada de função.\n",
    "\n",
    "# Correto\n",
    "funcao(1, nome=\"Maria\")\n",
    "\n",
    "# Incorreto — nomeado antes de posicional ❌\n",
    "funcao(nome=\"Maria\", 1)  # Isso dá erro de sintaxe!"
   ]
  },
  {
   "cell_type": "code",
   "execution_count": null,
   "id": "4f09180e",
   "metadata": {},
   "outputs": [],
   "source": [
    "cp = ContaPoupanca(numero_da_conta=123456, saldo=200)\n"
   ]
  },
  {
   "cell_type": "code",
   "execution_count": 7,
   "id": "0c36e918",
   "metadata": {},
   "outputs": [
    {
     "name": "stdout",
     "output_type": "stream",
     "text": [
      "300\n"
     ]
    }
   ],
   "source": [
    "cp.depositar(100)\n",
    "print(cp.saldo)"
   ]
  },
  {
   "cell_type": "code",
   "execution_count": 8,
   "id": "cc711dfe",
   "metadata": {},
   "outputs": [
    {
     "name": "stdout",
     "output_type": "stream",
     "text": [
      "250\n"
     ]
    }
   ],
   "source": [
    "cp.sacar(50)\n",
    "print(cp.saldo)\n"
   ]
  },
  {
   "cell_type": "markdown",
   "id": "1f56d527",
   "metadata": {},
   "source": [
    "# **POLIMORFISMO**"
   ]
  },
  {
   "cell_type": "code",
   "execution_count": 9,
   "id": "9f42dc28",
   "metadata": {},
   "outputs": [],
   "source": [
    "class ContaPoupanca(Conta):\n",
    "    def sacar(self, valor):\n",
    "        if self.saldo - valor > 0:\n",
    "            self.saldo -= valor\n",
    "\n",
    "class ContaCorrente(Conta):\n",
    "    limite = 1000\n",
    "\n",
    "    def sacar(self, valor):\n",
    "        if self.saldo + self.limite - valor > 0:\n",
    "            self.saldo -=valor\n",
    "            "
   ]
  },
  {
   "cell_type": "code",
   "execution_count": 10,
   "id": "d53c1fd8",
   "metadata": {},
   "outputs": [],
   "source": [
    "cc = ContaCorrente(numero_da_conta=54321, saldo=200)\n"
   ]
  },
  {
   "cell_type": "code",
   "execution_count": 11,
   "id": "ebb4c7cd",
   "metadata": {},
   "outputs": [
    {
     "name": "stdout",
     "output_type": "stream",
     "text": [
      "-300\n"
     ]
    }
   ],
   "source": [
    "cc.sacar(500)\n",
    "print(cc.saldo)\n"
   ]
  }
 ],
 "metadata": {
  "kernelspec": {
   "display_name": "Python 3",
   "language": "python",
   "name": "python3"
  },
  "language_info": {
   "codemirror_mode": {
    "name": "ipython",
    "version": 3
   },
   "file_extension": ".py",
   "mimetype": "text/x-python",
   "name": "python",
   "nbconvert_exporter": "python",
   "pygments_lexer": "ipython3",
   "version": "3.13.1"
  }
 },
 "nbformat": 4,
 "nbformat_minor": 5
}
