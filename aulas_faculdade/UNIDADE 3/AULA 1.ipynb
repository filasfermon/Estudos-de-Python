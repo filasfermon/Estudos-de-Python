{
 "cells": [
  {
   "cell_type": "markdown",
   "id": "ceb903df",
   "metadata": {},
   "source": [
    "# **Comma-Separated Values**"
   ]
  },
  {
   "cell_type": "code",
   "execution_count": null,
   "id": "4116a289",
   "metadata": {},
   "outputs": [],
   "source": [
    "import pandas as pd\n",
    "\n",
    "df = pd.read_csv('exemplo.csv')\n"
   ]
  }
 ],
 "metadata": {
  "kernelspec": {
   "display_name": "Python 3",
   "language": "python",
   "name": "python3"
  },
  "language_info": {
   "codemirror_mode": {
    "name": "ipython",
    "version": 3
   },
   "file_extension": ".py",
   "mimetype": "text/x-python",
   "name": "python",
   "nbconvert_exporter": "python",
   "pygments_lexer": "ipython3",
   "version": "3.13.1"
  }
 },
 "nbformat": 4,
 "nbformat_minor": 5
}
