{
 "cells": [
  {
   "cell_type": "markdown",
   "id": "a3349156",
   "metadata": {},
   "source": [
    "# **Try-except**"
   ]
  },
  {
   "cell_type": "code",
   "execution_count": 1,
   "id": "1ddce026",
   "metadata": {},
   "outputs": [
    {
     "name": "stdout",
     "output_type": "stream",
     "text": [
      "Um erro foi encontrado\n"
     ]
    }
   ],
   "source": [
    "try:\n",
    "    print(1 + 'a')\n",
    "except:\n",
    "    print('Um erro foi encontrado')\n",
    "    "
   ]
  },
  {
   "cell_type": "code",
   "execution_count": 2,
   "id": "83fd6581",
   "metadata": {},
   "outputs": [
    {
     "name": "stdout",
     "output_type": "stream",
     "text": [
      "Um erro foi encontrado\n"
     ]
    }
   ],
   "source": [
    "try:\n",
    "    print(1 + 'a')\n",
    "except TypeError:\n",
    "    print('Um erro foi encontrado')\n",
    "    "
   ]
  },
  {
   "cell_type": "code",
   "execution_count": 3,
   "id": "52e0c100",
   "metadata": {},
   "outputs": [
    {
     "name": "stdout",
     "output_type": "stream",
     "text": [
      "Um erro foi encontrado\n"
     ]
    }
   ],
   "source": [
    "try:\n",
    "    int('a')\n",
    "except TypeError:\n",
    "    print('Um erro foi encontrado')\n",
    "except ValueError:\n",
    "    print('Um erro foi encontrado')\n"
   ]
  },
  {
   "cell_type": "code",
   "execution_count": null,
   "id": "d519227f",
   "metadata": {},
   "outputs": [],
   "source": [
    "def dividir_numero(a, b):\n",
    "    if b == 0:\n",
    "        raise ValueError(\"O divisor não pode ser zero\")\n",
    "    return a/b\n",
    "\n",
    "try:\n",
    "    resultado = dividir_numero(10, 2)\n",
    "    print(f\"resultado da divisão: {resultado}\")\n",
    "\n",
    "    resultado = dividir_numero(8, 0)\n",
    "    print(f\"resultado da divisão: {resultado}\")\n",
    "\n",
    "except ValueError as e:\n",
    "    print(f\"Erro: {e}\")\n",
    "    "
   ]
  }
 ],
 "metadata": {
  "kernelspec": {
   "display_name": "Python 3",
   "language": "python",
   "name": "python3"
  },
  "language_info": {
   "codemirror_mode": {
    "name": "ipython",
    "version": 3
   },
   "file_extension": ".py",
   "mimetype": "text/x-python",
   "name": "python",
   "nbconvert_exporter": "python",
   "pygments_lexer": "ipython3",
   "version": "3.13.1"
  }
 },
 "nbformat": 4,
 "nbformat_minor": 5
}
