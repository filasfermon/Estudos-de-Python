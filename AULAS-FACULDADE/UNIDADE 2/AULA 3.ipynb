{
 "cells": [
  {
   "cell_type": "markdown",
   "id": "0002c748",
   "metadata": {},
   "source": [
    "# **DRY - Don't Repaeat Yourself**"
   ]
  },
  {
   "cell_type": "markdown",
   "id": "b53f0b0c",
   "metadata": {},
   "source": [
    "# **HERANÇA**"
   ]
  },
  {
   "cell_type": "code",
   "execution_count": 1,
   "id": "5195ba6d",
   "metadata": {},
   "outputs": [],
   "source": [
    "class Pai:\n",
    "    x = 10\n",
    "\n",
    "    def exibir_mensagem(self):\n",
    "        print(\"Método definido na Classe pai.\")\n",
    "\n",
    "class Filha(Pai):\n",
    "    pass\n"
   ]
  },
  {
   "cell_type": "code",
   "execution_count": 2,
   "id": "c96c80ce",
   "metadata": {},
   "outputs": [
    {
     "name": "stdout",
     "output_type": "stream",
     "text": [
      "10\n"
     ]
    }
   ],
   "source": [
    "p = Pai()\n",
    "print(p.x)\n"
   ]
  },
  {
   "cell_type": "code",
   "execution_count": 3,
   "id": "22b627c5",
   "metadata": {},
   "outputs": [
    {
     "name": "stdout",
     "output_type": "stream",
     "text": [
      "10\n"
     ]
    }
   ],
   "source": [
    "f = Filha()\n",
    "print(f.x)\n"
   ]
  },
  {
   "cell_type": "code",
   "execution_count": 5,
   "id": "697f1745",
   "metadata": {},
   "outputs": [
    {
     "name": "stdout",
     "output_type": "stream",
     "text": [
      "Método definido na Classe pai.\n"
     ]
    }
   ],
   "source": [
    "f.exibir_mensagem()\n"
   ]
  },
  {
   "cell_type": "markdown",
   "id": "60feb4ba",
   "metadata": {},
   "source": [
    "# **POLIMORFISMO**"
   ]
  },
  {
   "cell_type": "code",
   "execution_count": 6,
   "id": "d0f1dedc",
   "metadata": {},
   "outputs": [],
   "source": [
    "class Conta:\n",
    "    def __init__(self, numero_da_conta, saldo):\n",
    "        self.numero_da_conta = numero_da_conta\n",
    "        self.saldo = saldo\n",
    "\n",
    "    def depositar(self, valor):\n",
    "        self.saldo += valor\n",
    "    \n",
    "    def sacar(self, valor):\n",
    "        self.saldo -= valor"
   ]
  },
  {
   "cell_type": "code",
   "execution_count": 7,
   "id": "a94ec261",
   "metadata": {},
   "outputs": [],
   "source": [
    "class ContaPoupanca(Conta):\n",
    "    def calcular_rendimentos(self):\n",
    "        self.saldo += self.saldo * 0.05\n"
   ]
  },
  {
   "cell_type": "code",
   "execution_count": 8,
   "id": "50648dbc",
   "metadata": {},
   "outputs": [],
   "source": [
    "cp = ContaPoupanca(numero_da_conta=123456, saldo=200)\n"
   ]
  },
  {
   "cell_type": "code",
   "execution_count": 9,
   "id": "aade6ed4",
   "metadata": {},
   "outputs": [
    {
     "name": "stdout",
     "output_type": "stream",
     "text": [
      "300\n"
     ]
    }
   ],
   "source": [
    "cp.depositar(100)\n",
    "print(cp.saldo)\n"
   ]
  },
  {
   "cell_type": "code",
   "execution_count": 10,
   "id": "9f09c53d",
   "metadata": {},
   "outputs": [
    {
     "name": "stdout",
     "output_type": "stream",
     "text": [
      "250\n"
     ]
    }
   ],
   "source": [
    "cp.sacar(50)\n",
    "print(cp.saldo)\n"
   ]
  },
  {
   "cell_type": "code",
   "execution_count": 11,
   "id": "55dacef8",
   "metadata": {},
   "outputs": [
    {
     "name": "stdout",
     "output_type": "stream",
     "text": [
      "262.5\n"
     ]
    }
   ],
   "source": [
    "cp.calcular_rendimentos()\n",
    "print(cp.saldo)\n"
   ]
  }
 ],
 "metadata": {
  "kernelspec": {
   "display_name": "Python 3",
   "language": "python",
   "name": "python3"
  },
  "language_info": {
   "codemirror_mode": {
    "name": "ipython",
    "version": 3
   },
   "file_extension": ".py",
   "mimetype": "text/x-python",
   "name": "python",
   "nbconvert_exporter": "python",
   "pygments_lexer": "ipython3",
   "version": "3.13.1"
  }
 },
 "nbformat": 4,
 "nbformat_minor": 5
}
