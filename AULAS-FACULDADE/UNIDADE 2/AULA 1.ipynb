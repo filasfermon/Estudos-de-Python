{
 "cells": [
  {
   "cell_type": "markdown",
   "id": "3f2c73c5",
   "metadata": {},
   "source": [
    "# **Criando Uma Classe**"
   ]
  },
  {
   "cell_type": "code",
   "execution_count": null,
   "id": "2ef58ee8",
   "metadata": {},
   "outputs": [],
   "source": [
    "class Carteira:\n",
    "    pass # Aqui o comando \"pass\" é usado quando se quer criar uma classe, mas sinalizar que a implementação será feita depois.\n"
   ]
  },
  {
   "cell_type": "code",
   "execution_count": null,
   "id": "bd1f2bff",
   "metadata": {},
   "outputs": [],
   "source": [
    "class Carteira():\n",
    "    saldo = 0\n",
    "\n",
    "c = Carteira()\n",
    "\n",
    "print(c.saldo)\n",
    "\n"
   ]
  },
  {
   "cell_type": "markdown",
   "id": "61f38969",
   "metadata": {},
   "source": [
    "# **class Carteira(): ou class Carteira:**\n",
    "\n",
    "## **🧠 Explicação Detalhada:**\n",
    "## **🔹 Forma 1 - class Carteira:**\n",
    "Essa é a forma moderna e recomendada quando você não está herdando explicitamente de nenhuma classe. O Python entende que, nesse caso, você está herdando de forma implícita da classe object.\n",
    "\n",
    "**Ou seja, isso aqui:**\n",
    "class Carteira:\n",
    "    pass\n",
    "\n",
    "**É equivalente a isso:**\n",
    "class Carteira(object):\n",
    "    pass\n",
    "\n",
    "**Desde o Python 3, todas as classes herdam automaticamente de object, mesmo que você não coloque explicitamente.**\n",
    "\n",
    "## **🔹 Forma 2 - class Carteira():**\n",
    "Essa forma também é válida, mas os parênteses não têm função alguma se você não está colocando uma superclasse dentro. É apenas uma questão de estilo, e a maioria da comunidade Python prefere omitir os parênteses quando não são necessários.\n",
    "\n",
    "## **🏁 Recomendações:**\n",
    "**✅ Use class Carteira: → mais limpo e mais \"pythônico\" quando não há herança explícita.**\n",
    "\n",
    "**🔁 Use class Carteira(SuperClasse): quando for herdar de outra classe.**\n",
    "\n",
    "\n",
    "## **💡 Exemplo com herança:**\n",
    "class Pessoa:\n",
    "    pass\n",
    "\n",
    "class Carteira(Pessoa):\n",
    "    pass\n",
    "\n",
    "\n"
   ]
  },
  {
   "cell_type": "code",
   "execution_count": 7,
   "id": "bad77dd6",
   "metadata": {},
   "outputs": [],
   "source": [
    "class Carteira():\n",
    "    saldo = 0\n",
    "\n",
    "    def adicionar_fundos(self, valor):\n",
    "        self.saldo += valor\n",
    "        print('Operação realizada com sucesso')\n",
    "\n",
    "    def remover_fundos(self, valor):\n",
    "        if self.saldo >= valor:\n",
    "            self.saldo -= valor\n",
    "            print('Operação realizada com sucesso')\n",
    "        else:\n",
    "            print('Operação não realizada. Saldo Insuficiente!')\n"
   ]
  },
  {
   "cell_type": "code",
   "execution_count": 8,
   "id": "06f6c8de",
   "metadata": {},
   "outputs": [],
   "source": [
    "c = Carteira()\n"
   ]
  },
  {
   "cell_type": "code",
   "execution_count": null,
   "id": "1b35ba92",
   "metadata": {},
   "outputs": [
    {
     "name": "stdout",
     "output_type": "stream",
     "text": [
      "Operação realizada com sucesso\n",
      "2000\n"
     ]
    }
   ],
   "source": [
    "c.adicionar_fundos(1000)\n"
   ]
  },
  {
   "cell_type": "code",
   "execution_count": 13,
   "id": "9b7439da",
   "metadata": {},
   "outputs": [
    {
     "name": "stdout",
     "output_type": "stream",
     "text": [
      "1500\n"
     ]
    }
   ],
   "source": [
    "print(c.saldo)\n"
   ]
  },
  {
   "cell_type": "code",
   "execution_count": 12,
   "id": "70c08c54",
   "metadata": {},
   "outputs": [
    {
     "name": "stdout",
     "output_type": "stream",
     "text": [
      "Operação realizada com sucesso\n"
     ]
    }
   ],
   "source": [
    "c.remover_fundos(500)\n"
   ]
  },
  {
   "cell_type": "markdown",
   "id": "6a837869",
   "metadata": {},
   "source": [
    "# **Criando uma Classe Abstrata**"
   ]
  },
  {
   "cell_type": "code",
   "execution_count": null,
   "id": "8fadc5e9",
   "metadata": {},
   "outputs": [],
   "source": [
    "from abc import ABC, abstractmethod\n",
    "\n",
    "class CartaoBase(ABC):\n",
    "    @abstractmethod\n",
    "    def calcular_cash"
   ]
  }
 ],
 "metadata": {
  "kernelspec": {
   "display_name": "Python 3",
   "language": "python",
   "name": "python3"
  },
  "language_info": {
   "codemirror_mode": {
    "name": "ipython",
    "version": 3
   },
   "file_extension": ".py",
   "mimetype": "text/x-python",
   "name": "python",
   "nbconvert_exporter": "python",
   "pygments_lexer": "ipython3",
   "version": "3.13.2"
  }
 },
 "nbformat": 4,
 "nbformat_minor": 5
}
