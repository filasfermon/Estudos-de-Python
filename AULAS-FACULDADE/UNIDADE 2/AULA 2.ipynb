{
 "cells": [
  {
   "cell_type": "markdown",
   "id": "905ef4ff",
   "metadata": {},
   "source": [
    "# **Método de Classe**"
   ]
  },
  {
   "cell_type": "code",
   "execution_count": 4,
   "id": "0521be62",
   "metadata": {},
   "outputs": [],
   "source": [
    "class Method:\n",
    "    @classmethod\n",
    "    def metodo_de_classe(cls, x):\n",
    "        print(cls, x)\n"
   ]
  },
  {
   "cell_type": "code",
   "execution_count": 5,
   "id": "fdce072d",
   "metadata": {},
   "outputs": [
    {
     "name": "stdout",
     "output_type": "stream",
     "text": [
      "<class '__main__.Method'> Chamando um Método de Classe\n"
     ]
    }
   ],
   "source": [
    "m = Method()\n",
    "m.metodo_de_classe(\"Chamando um Método de Classe\")\n"
   ]
  }
 ],
 "metadata": {
  "kernelspec": {
   "display_name": "Python 3",
   "language": "python",
   "name": "python3"
  },
  "language_info": {
   "codemirror_mode": {
    "name": "ipython",
    "version": 3
   },
   "file_extension": ".py",
   "mimetype": "text/x-python",
   "name": "python",
   "nbconvert_exporter": "python",
   "pygments_lexer": "ipython3",
   "version": "3.13.1"
  }
 },
 "nbformat": 4,
 "nbformat_minor": 5
}
