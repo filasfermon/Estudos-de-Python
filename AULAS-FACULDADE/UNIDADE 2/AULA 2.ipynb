{
 "cells": [
  {
   "cell_type": "code",
   "execution_count": 13,
   "id": "d473b0f4",
   "metadata": {},
   "outputs": [],
   "source": [
    "class Cartao:\n",
    "    def __init__(self):\n",
    "        self._limite = 100\n",
    "    \n",
    "    def _alterar_limite(self, novo_limite):\n",
    "        if novo_limite < 0:\n",
    "            raise ValueError('O limite não pode ser negativo!')\n",
    "        else:\n",
    "            self._limite = novo_limite\n",
    "\n",
    "    def _exibir_limite(self):\n",
    "        return self._limite\n",
    "    "
   ]
  },
  {
   "cell_type": "code",
   "execution_count": 15,
   "id": "f75cd568",
   "metadata": {},
   "outputs": [
    {
     "name": "stdout",
     "output_type": "stream",
     "text": [
      "100\n",
      "150\n",
      "-150\n"
     ]
    }
   ],
   "source": [
    "c = Cartao()\n",
    "print(c._limite)\n",
    "c._limite = 150\n",
    "print(c._limite)\n",
    "c._limite = - 150\n",
    "print(c._limite)\n"
   ]
  },
  {
   "cell_type": "markdown",
   "id": "cde9ce0b",
   "metadata": {},
   "source": [
    "# **Uso da Função PROPERTY**\n",
    "\n",
    "## **A função PROPERTY serve para controlar o Acesso e a Modificação de um Atributo Interno em uma classe .**\n",
    "\n",
    "### **No código acima o Atributo \"self._limite\" recebeu um valor negativo! Se desejamos evitar que este Atributo receba valores negativos, precisamos fazer um controle do Acesso a esse atributo.**\n",
    "\n",
    "### **É aí que entra a Função PROPERTY**"
   ]
  },
  {
   "cell_type": "code",
   "execution_count": 16,
   "id": "914a20cc",
   "metadata": {},
   "outputs": [],
   "source": [
    "class Cartao_Modelo_Com_Property:\n",
    "    def __init__(self):\n",
    "        self._limite = 100\n",
    "    \n",
    "    def _alterar_limite(self, novo_limite):\n",
    "        if novo_limite < 0:\n",
    "            raise ValueError('O limite não pode ser negativo!')\n",
    "        else:\n",
    "            self._limite = novo_limite\n",
    "\n",
    "    def _exibir_limite(self):\n",
    "        return self._limite\n",
    "    \n",
    "    limite = property (_exibir_limite, _alterar_limite)\n"
   ]
  },
  {
   "cell_type": "code",
   "execution_count": 20,
   "id": "58095354",
   "metadata": {},
   "outputs": [
    {
     "name": "stdout",
     "output_type": "stream",
     "text": [
      "100\n",
      "200\n"
     ]
    }
   ],
   "source": [
    "c = Cartao_Modelo_Com_Property()\n",
    "\n",
    "print(c.limite)\n",
    "c.limite = 200\n",
    "print(c.limite)\n"
   ]
  },
  {
   "cell_type": "code",
   "execution_count": 21,
   "id": "e198508e",
   "metadata": {},
   "outputs": [
    {
     "ename": "ValueError",
     "evalue": "O limite não pode ser negativo!",
     "output_type": "error",
     "traceback": [
      "\u001b[31m---------------------------------------------------------------------------\u001b[39m",
      "\u001b[31mValueError\u001b[39m                                Traceback (most recent call last)",
      "\u001b[36mCell\u001b[39m\u001b[36m \u001b[39m\u001b[32mIn[21]\u001b[39m\u001b[32m, line 1\u001b[39m\n\u001b[32m----> \u001b[39m\u001b[32m1\u001b[39m \u001b[43mc\u001b[49m\u001b[43m.\u001b[49m\u001b[43mlimite\u001b[49m = -\u001b[32m150\u001b[39m\n",
      "\u001b[36mCell\u001b[39m\u001b[36m \u001b[39m\u001b[32mIn[16]\u001b[39m\u001b[32m, line 7\u001b[39m, in \u001b[36mCartao_Modelo_Com_Property._alterar_limite\u001b[39m\u001b[34m(self, novo_limite)\u001b[39m\n\u001b[32m      5\u001b[39m \u001b[38;5;28;01mdef\u001b[39;00m\u001b[38;5;250m \u001b[39m\u001b[34m_alterar_limite\u001b[39m(\u001b[38;5;28mself\u001b[39m, novo_limite):\n\u001b[32m      6\u001b[39m     \u001b[38;5;28;01mif\u001b[39;00m novo_limite < \u001b[32m0\u001b[39m:\n\u001b[32m----> \u001b[39m\u001b[32m7\u001b[39m         \u001b[38;5;28;01mraise\u001b[39;00m \u001b[38;5;167;01mValueError\u001b[39;00m(\u001b[33m'\u001b[39m\u001b[33mO limite não pode ser negativo!\u001b[39m\u001b[33m'\u001b[39m)\n\u001b[32m      8\u001b[39m     \u001b[38;5;28;01melse\u001b[39;00m:\n\u001b[32m      9\u001b[39m         \u001b[38;5;28mself\u001b[39m._limite = novo_limite\n",
      "\u001b[31mValueError\u001b[39m: O limite não pode ser negativo!"
     ]
    }
   ],
   "source": [
    "c.limite = -150"
   ]
  },
  {
   "cell_type": "markdown",
   "id": "eda56b8d",
   "metadata": {},
   "source": [
    "# **Agora teremos uma Classe com o Property usando um Decorador**\n",
    "\n",
    "## **Algumas Observações:**\n",
    "\n",
    "**1. No Python, a função decorada com @property sempre deve vir antes da função decorada com @<nome>.setter, @<nome>.getter, ou @<nome>.deleter.**\n",
    "\n",
    "🧠 Por quê?\n",
    "O decorador @property transforma um método normal em uma propriedade de instância, ou seja, algo que você pode acessar como se fosse um atributo:\n",
    "\n",
    "obj.atributo  # ← propriedade, não um método\n",
    "\n",
    "Depois disso, você pode usar o nome dessa propriedade para adicionar funcionalidades adicionais, como o setter, que permite modificar o valor, ou o deleter, que permite apagá-lo.\n",
    "\n",
    "🔁 Ordem obrigatória:\n",
    "@property – cria a propriedade.\n",
    "\n",
    "@<nome>.setter – define o comportamento ao fazer obj.propriedade = valor.\n",
    "\n",
    "@<nome>.deleter (opcional) – define o comportamento ao usar del obj.propriedade.\n",
    "\n",
    "**2. 🧠 Explicação:**\n",
    "**Para o @<nome>.setter funcionar, o nome precisa ser exatamente o mesmo do método decorado com @property.**\n",
    "\n",
    "Na função acima tínhamos Dois Métodos diferentes. Um de leitura do Atributo \"limite\" chamado de \"_exibir_limite\" e de alterar o Atributo \"limite\" chamado de \"_alterar_limite\". Quando vamos usar o Decorador junto com o Property, precisamos nomear os dois métodos com o mesmo Nome, pois não será mais o nome que vai diferenciar quem será responsável pela leitura ou pela alteração do Atributo. Agora quem vai indicar que o método faz a leitura é o fato de \"@property\" vir acima do método e quem vai indicar que o método faz a alteração é o fato de ter o \"@.nomedoatributo.setter\".\n"
   ]
  },
  {
   "cell_type": "code",
   "execution_count": 24,
   "id": "4c9f4c7b",
   "metadata": {},
   "outputs": [],
   "source": [
    "class Cartao_Modelo_Com_Property_Usando_Decorador:\n",
    "    def __init__(self):\n",
    "        self._limite = 100\n",
    "    \n",
    "    @property\n",
    "    def limite(self):\n",
    "        return self._limite\n",
    "    \n",
    "    @limite.setter\n",
    "    def limite(self, novo_limite):\n",
    "        if novo_limite < 0:\n",
    "            raise ValueError('O limite não pode ser negativo!')\n",
    "        else:\n",
    "            self._limite = novo_limite\n",
    "    \n",
    "    #limite = property (_exibir_limite, _alterar_limite) Essa Linha não foi usada porque\n",
    "    #Ao invés dela usamos o PROPERTY com um Decorador \n"
   ]
  },
  {
   "cell_type": "code",
   "execution_count": 25,
   "id": "7258b37c",
   "metadata": {},
   "outputs": [
    {
     "name": "stdout",
     "output_type": "stream",
     "text": [
      "100\n",
      "200\n"
     ]
    }
   ],
   "source": [
    "c = Cartao_Modelo_Com_Property_Usando_Decorador()\n",
    "\n",
    "print(c.limite)\n",
    "c.limite = 200\n",
    "print(c.limite)\n"
   ]
  },
  {
   "cell_type": "code",
   "execution_count": 26,
   "id": "dfa87ad0",
   "metadata": {},
   "outputs": [
    {
     "ename": "ValueError",
     "evalue": "O limite não pode ser negativo!",
     "output_type": "error",
     "traceback": [
      "\u001b[31m---------------------------------------------------------------------------\u001b[39m",
      "\u001b[31mValueError\u001b[39m                                Traceback (most recent call last)",
      "\u001b[36mCell\u001b[39m\u001b[36m \u001b[39m\u001b[32mIn[26]\u001b[39m\u001b[32m, line 1\u001b[39m\n\u001b[32m----> \u001b[39m\u001b[32m1\u001b[39m \u001b[43mc\u001b[49m\u001b[43m.\u001b[49m\u001b[43mlimite\u001b[49m = -\u001b[32m100\u001b[39m\n",
      "\u001b[36mCell\u001b[39m\u001b[36m \u001b[39m\u001b[32mIn[24]\u001b[39m\u001b[32m, line 12\u001b[39m, in \u001b[36mCartao_Modelo_Com_Property_Usando_Decorador.limite\u001b[39m\u001b[34m(self, novo_limite)\u001b[39m\n\u001b[32m      9\u001b[39m \u001b[38;5;129m@limite\u001b[39m.setter\n\u001b[32m     10\u001b[39m \u001b[38;5;28;01mdef\u001b[39;00m\u001b[38;5;250m \u001b[39m\u001b[34mlimite\u001b[39m(\u001b[38;5;28mself\u001b[39m, novo_limite):\n\u001b[32m     11\u001b[39m     \u001b[38;5;28;01mif\u001b[39;00m novo_limite < \u001b[32m0\u001b[39m:\n\u001b[32m---> \u001b[39m\u001b[32m12\u001b[39m         \u001b[38;5;28;01mraise\u001b[39;00m \u001b[38;5;167;01mValueError\u001b[39;00m(\u001b[33m'\u001b[39m\u001b[33mO limite não pode ser negativo!\u001b[39m\u001b[33m'\u001b[39m)\n\u001b[32m     13\u001b[39m     \u001b[38;5;28;01melse\u001b[39;00m:\n\u001b[32m     14\u001b[39m         \u001b[38;5;28mself\u001b[39m._limite = novo_limite\n",
      "\u001b[31mValueError\u001b[39m: O limite não pode ser negativo!"
     ]
    }
   ],
   "source": [
    "c.limite = -100"
   ]
  }
 ],
 "metadata": {
  "kernelspec": {
   "display_name": "Python 3",
   "language": "python",
   "name": "python3"
  },
  "language_info": {
   "codemirror_mode": {
    "name": "ipython",
    "version": 3
   },
   "file_extension": ".py",
   "mimetype": "text/x-python",
   "name": "python",
   "nbconvert_exporter": "python",
   "pygments_lexer": "ipython3",
   "version": "3.13.2"
  }
 },
 "nbformat": 4,
 "nbformat_minor": 5
}
