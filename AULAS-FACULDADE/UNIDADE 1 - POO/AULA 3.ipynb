{
 "cells": [
  {
   "cell_type": "markdown",
   "id": "50991bd8",
   "metadata": {},
   "source": [
    "# **Biblioteca PANDAS - Estruturas de Dados - SERIES**"
   ]
  },
  {
   "cell_type": "code",
   "execution_count": 1,
   "id": "2f1e62fd",
   "metadata": {},
   "outputs": [],
   "source": [
    "import pandas as pd\n",
    "\n",
    "s = pd.Series([2, 4, 6, 7])\n"
   ]
  },
  {
   "cell_type": "markdown",
   "id": "a32174a4",
   "metadata": {},
   "source": [
    "# **pd.Series ≠ pd.series**\n",
    "\n",
    "#### **Se ao invés de escrever:**\n",
    "    s = pd.Series([2, 4, 6, 7]) \n",
    "\n",
    "#### **você escreve:**\n",
    "    s = pd.series([2, 4, 6, 7])\n",
    "\n",
    "### Isso vai gerar um erro, pois series (com \"s\" minúsculo) não existe no módulo pandas. Python é case-sensitive, o que significa que Series, series e SERIES são tratados como nomes completamente diferentes.\n",
    "\n",
    "No Python, classes seguem a convenção de nomenclatura chamada de CamelCase, onde cada palavra começa com letra maiúscula. Então:\n",
    "\n",
    "- pd.Series é uma classe que representa uma estrutura unidimensional com rótulo (índice).\n",
    "\n",
    "- Você a usa para criar objetos do tipo \"série\", como listas com rótulo.\n",
    "\n",
    "📌 Por isso: Sempre use pd.Series com \"S\" maiúsculo.\n",
    "\n"
   ]
  },
  {
   "cell_type": "code",
   "execution_count": 2,
   "id": "b7d86436",
   "metadata": {},
   "outputs": [
    {
     "name": "stdout",
     "output_type": "stream",
     "text": [
      "0    2\n",
      "1    4\n",
      "2    6\n",
      "3    7\n",
      "dtype: int64\n"
     ]
    }
   ],
   "source": [
    "print(s)\n"
   ]
  },
  {
   "cell_type": "code",
   "execution_count": 3,
   "id": "35658d44",
   "metadata": {},
   "outputs": [
    {
     "name": "stdout",
     "output_type": "stream",
     "text": [
      "6\n"
     ]
    }
   ],
   "source": [
    "print(s[2])\n"
   ]
  },
  {
   "cell_type": "markdown",
   "id": "ac652a9a",
   "metadata": {},
   "source": [
    "# **Biblioteca PANDAS - Estruturas de Dados - DATAFRAME**"
   ]
  },
  {
   "cell_type": "code",
   "execution_count": 6,
   "id": "882718fc",
   "metadata": {},
   "outputs": [
    {
     "name": "stdout",
     "output_type": "stream",
     "text": [
      "  Vendedores  Vendas\n",
      "0     Marcos     100\n",
      "1       João    1520\n",
      "2      Pedro    2430\n",
      "3      Lucas    1850\n",
      "4     mateus   10573\n"
     ]
    }
   ],
   "source": [
    "import pandas as pd\n",
    "\n",
    "vendas_por_vendendor = {'Vendedores': ['Marcos', 'João', 'Pedro', 'Lucas', 'mateus'], 'Vendas': [100, 1520, 2430, 1850, 10573]}\n",
    "\n",
    "df1 = pd.DataFrame(vendas_por_vendendor)\n",
    "\n",
    "print(df1)\n"
   ]
  }
 ],
 "metadata": {
  "kernelspec": {
   "display_name": "Python 3",
   "language": "python",
   "name": "python3"
  },
  "language_info": {
   "codemirror_mode": {
    "name": "ipython",
    "version": 3
   },
   "file_extension": ".py",
   "mimetype": "text/x-python",
   "name": "python",
   "nbconvert_exporter": "python",
   "pygments_lexer": "ipython3",
   "version": "3.13.1"
  }
 },
 "nbformat": 4,
 "nbformat_minor": 5
}
