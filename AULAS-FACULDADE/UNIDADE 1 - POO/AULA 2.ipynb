{
 "cells": [
  {
   "cell_type": "markdown",
   "id": "dccb005c",
   "metadata": {},
   "source": [
    "# **LISTAS**"
   ]
  },
  {
   "cell_type": "code",
   "execution_count": null,
   "id": "68a7ef1b",
   "metadata": {},
   "outputs": [
    {
     "name": "stdout",
     "output_type": "stream",
     "text": [
      "[1, 2, 3, 4]\n"
     ]
    }
   ],
   "source": [
    "Lista1 = [1, 2, 3 ,4]\n",
    "print(Lista1)\n"
   ]
  },
  {
   "cell_type": "code",
   "execution_count": 8,
   "id": "5b1159d8",
   "metadata": {},
   "outputs": [
    {
     "name": "stdout",
     "output_type": "stream",
     "text": [
      "3\n"
     ]
    }
   ],
   "source": [
    "print(Lista1[2])\n"
   ]
  },
  {
   "cell_type": "markdown",
   "id": "948bad48",
   "metadata": {},
   "source": [
    "# **Explicação do Fatiamento no Python**\n",
    "\n",
    "## Em Python, o fatiamento de uma lista funciona com a sintaxe:\n",
    "\n",
    "### lista[início:fim]\n",
    "\n",
    "E o que isso significa?\n",
    "\n",
    "O Python inclui o índice de início e exclui o índice de fim!\n",
    "\n",
    "Tenhamos como exemplo a Lista1 = [1, 2, 3, '4]\n",
    "\n",
    "                      índices:   0 1 2 3\n",
    "\n",
    "Em uma lista com Quatro elementos - ex.: Lista1 = [1, 2, 3 ,4] - como temos na Lista1, o primeiro elemento recebe Índice Zero e o quarto elemento recebe o índice Três. sendo assim, caso queiramos o terceiro e o quarto elemento como saída precisamos escrever no código:\n",
    "\n",
    "print(Lista1[2:4])\n",
    "\n",
    "Por mais que não haja um elemnto no Índice 4, pois o Índice do último elemento é o Índice 3, colocamos o 4 para dizer que vai até o Índice 4. Ou seja, vai do Índice 2 (inclui o elemento do índice 2) até o Índice 4 (até o elemento do ìndice 3).\n",
    "\n",
    "Lista1 = [1, 2, 3, '4]\n",
    "\n",
    "índices:   0    1    2    3\n"
   ]
  },
  {
   "cell_type": "code",
   "execution_count": 12,
   "id": "9d9a8ec3",
   "metadata": {},
   "outputs": [
    {
     "name": "stdout",
     "output_type": "stream",
     "text": [
      "[1]\n"
     ]
    }
   ],
   "source": [
    "print(Lista1[0:1])\n"
   ]
  },
  {
   "cell_type": "code",
   "execution_count": null,
   "id": "50772548",
   "metadata": {},
   "outputs": [
    {
     "name": "stdout",
     "output_type": "stream",
     "text": [
      "[3, 4]\n"
     ]
    }
   ],
   "source": [
    "print(Lista1[2:4])\n"
   ]
  },
  {
   "cell_type": "code",
   "execution_count": 32,
   "id": "cdb00fc4",
   "metadata": {},
   "outputs": [],
   "source": [
    "Lista2 = [1, 2, 3, 4]\n"
   ]
  },
  {
   "cell_type": "code",
   "execution_count": 33,
   "id": "d626cce5",
   "metadata": {},
   "outputs": [
    {
     "name": "stdout",
     "output_type": "stream",
     "text": [
      "[1, 2, 3, 4, 2025]\n"
     ]
    }
   ],
   "source": [
    "Lista2.append(2025)\n",
    "print(Lista2)\n"
   ]
  },
  {
   "cell_type": "code",
   "execution_count": 35,
   "id": "6e67601a",
   "metadata": {},
   "outputs": [
    {
     "data": {
      "text/plain": [
       "2025"
      ]
     },
     "execution_count": 35,
     "metadata": {},
     "output_type": "execute_result"
    }
   ],
   "source": [
    "Lista2.pop()\n",
    "#\n"
   ]
  },
  {
   "cell_type": "code",
   "execution_count": 36,
   "id": "5098e024",
   "metadata": {},
   "outputs": [
    {
     "name": "stdout",
     "output_type": "stream",
     "text": [
      "[1, 2, 3, 4]\n"
     ]
    }
   ],
   "source": [
    "print(Lista2)\n"
   ]
  },
  {
   "cell_type": "markdown",
   "id": "d482fa4b",
   "metadata": {},
   "source": [
    "# **TUPLAS**"
   ]
  },
  {
   "cell_type": "markdown",
   "id": "f9d92045",
   "metadata": {},
   "source": [
    "### **Quando os elementos de uma tupla (ou qualquer estrutura de dados em Python) forem do tipo str (string), eles devem obrigatoriamente estar entre aspas simples (') ou duplas (\"). Isso vale para:**\n",
    "\n",
    "#### Tuplas: ('Pedro', 'Marcos', 'João')\n",
    "\n",
    "#### Listas: ['Pedro', 'Marcos', 'João']\n",
    "\n",
    "#### Dicionários: {'nome': 'Pedro'}\n",
    "\n",
    "#### Atribuições diretas: nome = 'Pedro'\n",
    "\n",
    "##### 📌 Por que as aspas são necessárias?\n",
    "\n",
    "**As aspas indicam para o interpretador do Python que aquele valor é uma string literal, ou seja, texto. Sem aspas, o Python tentaria interpretar os nomes como variáveis, o que causaria erro se essas variáveis não existirem.**"
   ]
  },
  {
   "cell_type": "code",
   "execution_count": 45,
   "id": "b04bcd9a",
   "metadata": {},
   "outputs": [],
   "source": [
    "Alunos = ('Pedro','Marcos', 'João')\n"
   ]
  },
  {
   "cell_type": "markdown",
   "id": "dbfb118b",
   "metadata": {},
   "source": [
    "#### **Tecnicamente, você pode deixar um espaço entre Alunos e [1], mas não é recomendado.**\n",
    "\n",
    "No Python, esse espaço não causa erro de sintaxe, então as duas formas abaixo funcionam:\n",
    "\n",
    "Alunos[1]   # ✅ Forma correta e recomendada\n",
    "Alunos [1]  # ✅ Funciona, mas é contra as boas práticas\n",
    "\n",
    "Mas segundo o PEP 8 — o guia de estilo oficial do Python — não se deve colocar espaço entre o nome da variável e os colchetes de indexação."
   ]
  },
  {
   "cell_type": "code",
   "execution_count": null,
   "id": "4cebfe43",
   "metadata": {},
   "outputs": [
    {
     "data": {
      "text/plain": [
       "'Marcos'"
      ]
     },
     "execution_count": 46,
     "metadata": {},
     "output_type": "execute_result"
    }
   ],
   "source": [
    "Alunos[1] #RECOMENDADO\n"
   ]
  },
  {
   "cell_type": "code",
   "execution_count": 47,
   "id": "8810a4dd",
   "metadata": {},
   "outputs": [
    {
     "data": {
      "text/plain": [
       "'Marcos'"
      ]
     },
     "execution_count": 47,
     "metadata": {},
     "output_type": "execute_result"
    }
   ],
   "source": [
    "Alunos [1] #NÃO É UMA BOA PRÁTICA"
   ]
  },
  {
   "cell_type": "markdown",
   "id": "937d890c",
   "metadata": {},
   "source": [
    "### **print(Alunos[1])** não é a mesma coisa de **Alunos[1]**\n",
    "\n",
    "#### **1. Usar apenas Alunos[1]**\n",
    "\n",
    "Quando você executa:\n",
    "\n",
    "Alunos[1]\n",
    "\n",
    "em um notebook, como o Jupyter ou no VS Code, o valor do último comando é automaticamente exibido como saída, mesmo sem o uso do print().\n",
    "\n",
    "**Esse comportamento é exclusivo de ambientes interativos.**\n",
    "\n",
    "#### **2. Usar print(Alunos[1]):**\n",
    "\n",
    "print(Alunos[1])\n",
    "\n",
    "**Isso força a exibição do valor, independentemente do ambiente.**"
   ]
  },
  {
   "cell_type": "code",
   "execution_count": 48,
   "id": "4576b437",
   "metadata": {},
   "outputs": [
    {
     "name": "stdout",
     "output_type": "stream",
     "text": [
      "Marcos\n"
     ]
    }
   ],
   "source": [
    "print(Alunos[1])\n"
   ]
  },
  {
   "cell_type": "code",
   "execution_count": 50,
   "id": "021079b8",
   "metadata": {},
   "outputs": [
    {
     "name": "stdout",
     "output_type": "stream",
     "text": [
      "('Pedro', 'Marcos', 'João')\n"
     ]
    }
   ],
   "source": [
    "print(Alunos)\n"
   ]
  },
  {
   "cell_type": "code",
   "execution_count": 51,
   "id": "a3799bdf",
   "metadata": {},
   "outputs": [
    {
     "name": "stdout",
     "output_type": "stream",
     "text": [
      "Pedro\n",
      "João\n"
     ]
    }
   ],
   "source": [
    "print(Alunos[-3])\n",
    "print(Alunos[-1])\n"
   ]
  },
  {
   "cell_type": "code",
   "execution_count": 52,
   "id": "ccb7ac28",
   "metadata": {},
   "outputs": [],
   "source": [
    "nome, ano_da_posse =('Lucas', 2025)\n"
   ]
  },
  {
   "cell_type": "code",
   "execution_count": 53,
   "id": "cbb1fd3d",
   "metadata": {},
   "outputs": [
    {
     "name": "stdout",
     "output_type": "stream",
     "text": [
      "Lucas\n"
     ]
    }
   ],
   "source": [
    "print(nome)\n"
   ]
  },
  {
   "cell_type": "code",
   "execution_count": 55,
   "id": "286246cf",
   "metadata": {},
   "outputs": [
    {
     "name": "stdout",
     "output_type": "stream",
     "text": [
      "2025\n"
     ]
    }
   ],
   "source": [
    "print(ano_da_posse)\n"
   ]
  },
  {
   "cell_type": "markdown",
   "id": "9ed5717f",
   "metadata": {},
   "source": [
    "# **DICIONÁRIOS**"
   ]
  },
  {
   "cell_type": "code",
   "execution_count": 57,
   "id": "a3a3d63c",
   "metadata": {},
   "outputs": [],
   "source": [
    "gastos_por_compra = {'Paulo': 1200, 'Maria': 450, 'Lucas': 2850, 'Anderson': 10500}\n"
   ]
  },
  {
   "cell_type": "code",
   "execution_count": 60,
   "id": "d497a533",
   "metadata": {},
   "outputs": [
    {
     "name": "stdout",
     "output_type": "stream",
     "text": [
      "{'Paulo': 1200, 'Maria': 450, 'Lucas': 2850, 'Anderson': 10500}\n",
      "2850\n"
     ]
    }
   ],
   "source": [
    "print(gastos_por_compra)\n",
    "print(gastos_por_compra['Lucas'])\n"
   ]
  },
  {
   "cell_type": "code",
   "execution_count": 62,
   "id": "a59b16ad",
   "metadata": {},
   "outputs": [
    {
     "name": "stdout",
     "output_type": "stream",
     "text": [
      "12000\n"
     ]
    }
   ],
   "source": [
    "gastos_por_compra['Lucas'] = 12000\n",
    "\n",
    "print(gastos_por_compra['Lucas'])\n"
   ]
  },
  {
   "cell_type": "code",
   "execution_count": 63,
   "id": "f40c4807",
   "metadata": {},
   "outputs": [
    {
     "data": {
      "text/plain": [
       "dict_keys(['Paulo', 'Maria', 'Lucas', 'Anderson'])"
      ]
     },
     "execution_count": 63,
     "metadata": {},
     "output_type": "execute_result"
    }
   ],
   "source": [
    "gastos_por_compra.keys()\n"
   ]
  },
  {
   "cell_type": "code",
   "execution_count": 64,
   "id": "2ab3636b",
   "metadata": {},
   "outputs": [
    {
     "data": {
      "text/plain": [
       "dict_values([1200, 450, 12000, 10500])"
      ]
     },
     "execution_count": 64,
     "metadata": {},
     "output_type": "execute_result"
    }
   ],
   "source": [
    "gastos_por_compra.values()\n"
   ]
  },
  {
   "cell_type": "code",
   "execution_count": 65,
   "id": "52ce9e9f",
   "metadata": {},
   "outputs": [
    {
     "data": {
      "text/plain": [
       "dict_items([('Paulo', 1200), ('Maria', 450), ('Lucas', 12000), ('Anderson', 10500)])"
      ]
     },
     "execution_count": 65,
     "metadata": {},
     "output_type": "execute_result"
    }
   ],
   "source": [
    "gastos_por_compra.items()\n"
   ]
  },
  {
   "cell_type": "markdown",
   "id": "f4b9bbc2",
   "metadata": {},
   "source": [
    "# **ESTRUTURAS DE REPETIÇÃO**"
   ]
  },
  {
   "cell_type": "code",
   "execution_count": 66,
   "id": "93c35ef9",
   "metadata": {},
   "outputs": [
    {
     "name": "stdout",
     "output_type": "stream",
     "text": [
      "Lg\n",
      "Samsung\n",
      "Carrier\n",
      "TCL\n"
     ]
    }
   ],
   "source": [
    "ar_condicionados = ['Lg', 'Samsung', 'Carrier', 'TCL']\n",
    "\n",
    "for marca in ar_condicionados:\n",
    "    print(marca)\n"
   ]
  }
 ],
 "metadata": {
  "kernelspec": {
   "display_name": "Python 3",
   "language": "python",
   "name": "python3"
  },
  "language_info": {
   "codemirror_mode": {
    "name": "ipython",
    "version": 3
   },
   "file_extension": ".py",
   "mimetype": "text/x-python",
   "name": "python",
   "nbconvert_exporter": "python",
   "pygments_lexer": "ipython3",
   "version": "3.13.1"
  }
 },
 "nbformat": 4,
 "nbformat_minor": 5
}
